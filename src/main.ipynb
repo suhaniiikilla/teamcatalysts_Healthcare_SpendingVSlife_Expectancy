{
 "cells": [
  {
   "cell_type": "code",
   "execution_count": null,
   "metadata": {},
   "outputs": [],
   "source": [
    "pip install numpy pandas matplotlib seaborn \n"
   ]
  },
  {
   "cell_type": "code",
   "execution_count": null,
   "metadata": {},
   "outputs": [],
   "source": [
    "import pandas as pd\n",
    "import matplotlib.pyplot as plt\n",
    "import numpy as np"
   ]
  },
  {
   "cell_type": "code",
   "execution_count": null,
   "metadata": {},
   "outputs": [],
   "source": [
    "# Load the dataset\n",
    "file_path = \"../data/life-expectancy-vs-health-expenditure.csv\"  # Adjust the file path as necessary\n",
    "data = pd.read_csv(file_path)\n",
    "\n",
    "# Display the first few rows to inspect the dataset\n",
    "print(\"Dataset preview:\")\n",
    "print(data.head())\n"
   ]
  },
  {
   "cell_type": "code",
   "execution_count": null,
   "metadata": {},
   "outputs": [],
   "source": [
    "# Check column names\n",
    "print(\"\\nColumns in the dataset:\")\n",
    "print(data.columns)\n",
    "\n",
    "# Rename columns for consistency\n",
    "data.rename(columns=lambda x: x.strip().lower().replace(' ', '_').replace(',', ''), inplace=True)\n",
    "\n",
    "# Display updated column names\n",
    "print(\"\\nUpdated column names:\")\n",
    "print(data.columns)\n"
   ]
  },
  {
   "cell_type": "code",
   "execution_count": null,
   "metadata": {},
   "outputs": [],
   "source": [
    "# Display basic dataset information\n",
    "print(\"\\nDataset information:\")\n",
    "print(data.info())\n",
    "\n",
    "# Check for missing values\n",
    "print(\"\\nMissing values in each column:\")\n",
    "print(data.isnull().sum())\n"
   ]
  },
  {
   "cell_type": "code",
   "execution_count": null,
   "metadata": {},
   "outputs": [],
   "source": [
    "# Group by 'entity' and calculate min/max for 'life_expectancy_at_birth_total_years'\n",
    "if 'life_expectancy_at_birth_total_(years)' in data.columns:\n",
    "    print(\"\\nMin and Max values of 'Life Expectancy at Birth (Years)' by Entity:\")\n",
    "    print(data.groupby('entity')['life_expectancy_at_birth_total_(years)'].agg(['min', 'max']))\n",
    "else:\n",
    "    print(\"\\nColumn 'life_expectancy_at_birth_total_years' not found in the dataset.\")\n"
   ]
  },
  {
   "cell_type": "code",
   "execution_count": null,
   "metadata": {},
   "outputs": [],
   "source": [
    "# Statistical summary for numerical columns\n",
    "print(\"\\nStatistical summary of numerical columns:\")\n",
    "print(data.describe())\n"
   ]
  },
  {
   "cell_type": "code",
   "execution_count": null,
   "metadata": {},
   "outputs": [],
   "source": [
    "# Fill missing values in 'continent' with 'Unknown'\n",
    "data['continent'] = data['continent'].fillna('Unknown')\n",
    "print(\"\\nFilled missing values in 'continent' column with 'Unknown'.\")\n"
   ]
  },
  {
   "cell_type": "code",
   "execution_count": null,
   "metadata": {},
   "outputs": [],
   "source": [
    "# Save the cleaned dataset\n",
    "output_file_path = \"../data/Cleaned_LifeExpectancy.csv\"\n",
    "data.to_csv(output_file_path, index=False)\n",
    "print(f\"\\nCleaned dataset saved to: {output_file_path}\")\n"
   ]
  },
  {
   "cell_type": "code",
   "execution_count": null,
   "metadata": {},
   "outputs": [],
   "source": [
    "# Visualization Example: Life Expectancy Trend over Years for a Specific Entity\n",
    "entity_name = \"France\"\n",
    "entity_data = data[data['entity'] == entity_name]\n",
    "\n",
    "if not entity_data.empty:\n",
    "    plt.figure(figsize=(10, 6))\n",
    "    plt.plot(entity_data['year'], entity_data['life_expectancy_at_birth_total_(years)'], marker='o', label=entity_name)\n",
    "    plt.title(f\"Life Expectancy Trend for {entity_name}\")\n",
    "    plt.xlabel(\"Year\")\n",
    "    plt.ylabel(\"Life Expectancy at Birth (Years)\")\n",
    "    plt.legend()\n",
    "    plt.grid(True)\n",
    "    plt.savefig(\"../visuals/LifeExpectancy_Trend_France.png\")\n",
    "    print(f\"Visualization saved as '../visuals/LifeExpectancy_Trend_France.png'\")\n",
    "    plt.show()\n",
    "else:\n",
    "    print(f\"\\nNo data found for the entity: {entity_name}\")\n"
   ]
  },
  {
   "cell_type": "code",
   "execution_count": null,
   "metadata": {},
   "outputs": [],
   "source": [
    "# Visualization Example: Life Expectancy Trend over Years for a Specific Entity\n",
    "entity_name = \"Australia\"\n",
    "entity_data = data[data['entity'] == entity_name]\n",
    "\n",
    "if not entity_data.empty:\n",
    "    plt.figure(figsize=(10, 6))\n",
    "    plt.plot(entity_data['year'], entity_data['life_expectancy_at_birth_total_(years)'], marker='o', label=entity_name)\n",
    "    plt.title(f\"Life Expectancy Trend for {entity_name}\")\n",
    "    plt.xlabel(\"Year\")\n",
    "    plt.ylabel(\"Life Expectancy at Birth (Years)\")\n",
    "    plt.legend()\n",
    "    plt.grid(True)\n",
    "    plt.savefig(\"../visuals/LifeExpectancy_Trend_Australia.png\")\n",
    "    print(f\"Visualization saved as '../visuals/LifeExpectancy_Trend_Australia.png'\")\n",
    "    plt.show()\n",
    "else:\n",
    "    print(f\"\\nNo data found for the entity: {entity_name}\")\n"
   ]
  },
  {
   "cell_type": "code",
   "execution_count": null,
   "metadata": {},
   "outputs": [],
   "source": [
    "# Visualization Example: Life Expectancy Trend over Years for a Specific Entity\n",
    "entity_name = \"Austria\"\n",
    "entity_data = data[data['entity'] == entity_name]\n",
    "\n",
    "if not entity_data.empty:\n",
    "    plt.figure(figsize=(10, 6))\n",
    "    plt.plot(entity_data['year'], entity_data['life_expectancy_at_birth_total_(years)'], marker='o', label=entity_name)\n",
    "    plt.title(f\"Life Expectancy Trend for {entity_name}\")\n",
    "    plt.xlabel(\"Year\")\n",
    "    plt.ylabel(\"Life Expectancy at Birth (Years)\")\n",
    "    plt.legend()\n",
    "    plt.grid(True)\n",
    "    plt.savefig(\"../visuals/LifeExpectancy_Trend_Austria.png\")\n",
    "    print(f\"Visualization saved as '../visuals/LifeExpectancy_Trend_Austria.png'\")\n",
    "    plt.show()\n",
    "else:\n",
    "    print(f\"\\nNo data found for the entity: {entity_name}\")\n"
   ]
  },
  {
   "cell_type": "code",
   "execution_count": null,
   "metadata": {},
   "outputs": [],
   "source": [
    "print(data['entity'].unique())"
   ]
  },
  {
   "cell_type": "code",
   "execution_count": null,
   "metadata": {},
   "outputs": [],
   "source": [
    "import pandas as pd\n",
    "import seaborn as sns\n",
    "import matplotlib.pyplot as plt\n",
    "\n",
    "# Clean the data: convert non-numeric entries to NaN\n",
    "data[numeric_columns] = data[numeric_columns].apply(pd.to_numeric, errors='coerce')\n",
    "\n",
    "# Optionally, you can fill NaN values with a placeholder, e.g., 0 or mean\n",
    "# data[numeric_columns] = data[numeric_columns].fillna(0)  # To fill with 0s\n",
    "# data[numeric_columns] = data[numeric_columns].fillna(data[numeric_columns].mean())  # To fill with column means\n",
    "\n",
    "# Compute the correlation matrix\n",
    "correlation_matrix = data[numeric_columns].corr()\n",
    "\n",
    "# Plot the heatmap\n",
    "plt.figure(figsize=(10, 8))\n",
    "sns.heatmap(correlation_matrix, annot=True, cmap='coolwarm', fmt='.2f', linewidths=0.5)\n",
    "plt.title(\"Correlation Heatmap\")\n",
    "plt.show()\n"
   ]
  },
  {
   "cell_type": "code",
   "execution_count": null,
   "metadata": {},
   "outputs": [],
   "source": [
    "# Scatter plot of Life Expectancy vs Health Expenditure\n",
    "plt.figure(figsize=(10, 6))\n",
    "sns.scatterplot(data=data, x='life_expectancy_at_birth_total_(years)', \n",
    "                y='health_expenditure_and_financing_(per_capita)_(oecdstat_(2017))', hue='continent', palette='Set1')\n",
    "plt.title(\"Life Expectancy vs Health Expenditure (Per Capita)\")\n",
    "plt.xlabel(\"Life Expectancy at Birth (Years)\")\n",
    "plt.ylabel(\"Health Expenditure and Financing (OECDstat)\")\n",
    "plt.legend(title='Continent')\n",
    "plt.show()\n"
   ]
  },
  {
   "cell_type": "code",
   "execution_count": null,
   "metadata": {},
   "outputs": [],
   "source": [
    "# Box plot of Life Expectancy by Continent\n",
    "plt.figure(figsize=(12, 6))\n",
    "sns.boxplot(data=data, x='continent', y='life_expectancy_at_birth_total_(years)', palette='Set2')\n",
    "plt.title(\"Life Expectancy by Continent\")\n",
    "plt.xlabel(\"Continent\")\n",
    "plt.ylabel(\"Life Expectancy at Birth (Years)\")\n",
    "plt.xticks(rotation=45)\n",
    "plt.show()\n"
   ]
  },
  {
   "cell_type": "code",
   "execution_count": null,
   "metadata": {},
   "outputs": [],
   "source": [
    "# Histogram for Life Expectancy at Birth\n",
    "plt.figure(figsize=(10, 6))\n",
    "sns.histplot(data['life_expectancy_at_birth_total_(years)'], kde=True, color='skyblue', bins=20)\n",
    "plt.title(\"Distribution of Life Expectancy at Birth\")\n",
    "plt.xlabel(\"Life Expectancy at Birth (Years)\")\n",
    "plt.ylabel(\"Frequency\")\n",
    "plt.show()\n"
   ]
  },
  {
   "cell_type": "code",
   "execution_count": null,
   "metadata": {},
   "outputs": [],
   "source": [
    "# Statistical summary of all numeric columns\n",
    "summary_statistics = data.describe()\n",
    "print(\"Statistical Summary of Numeric Columns:\")\n",
    "print(summary_statistics)\n",
    "output_file_path = \"../output/summary_statistics.csv\"\n",
    "summary_statistics.to_csv(output_file_path)\n",
    "\n",
    "output_file_path\n"
   ]
  },
  {
   "cell_type": "code",
   "execution_count": null,
   "metadata": {},
   "outputs": [],
   "source": [
    "# Group by continent and calculate mean life expectancy and health expenditure\n",
    "continent_summary = data.groupby('continent')[['life_expectancy_at_birth_total_(years)', \n",
    "                                               'health_expenditure_and_financing_(per_capita)_(oecdstat_(2017))']].mean()\n",
    "\n",
    "print(\"\\nMean Life Expectancy and Health Expenditure by Continent:\")\n",
    "print(continent_summary)\n",
    "output_file_path = \"../output/continent_summary.csv\"\n",
    "continent_summary.to_csv(output_file_path)\n",
    "\n",
    "output_file_path\n"
   ]
  },
  {
   "cell_type": "code",
   "execution_count": null,
   "metadata": {},
   "outputs": [],
   "source": [
    "# Line plot for Life Expectancy over time, separated by continent\n",
    "plt.figure(figsize=(12, 6))\n",
    "sns.lineplot(data=data, x='year', y='life_expectancy_at_birth_total_(years)', hue='continent', marker='o')\n",
    "plt.title(\"Life Expectancy Trend Over Time by Continent\")\n",
    "plt.xlabel(\"Year\")\n",
    "plt.ylabel(\"Life Expectancy at Birth (Years)\")\n",
    "plt.legend(title='Continent')\n",
    "plt.grid(True)\n",
    "plt.show()\n"
   ]
  },
  {
   "cell_type": "code",
   "execution_count": null,
   "metadata": {},
   "outputs": [],
   "source": [
    "# Calculate percentage change in life expectancy over time\n",
    "data['life_expectancy_pct_change'] = data['life_expectancy_at_birth_total_(years)'].pct_change() * 100\n",
    "\n",
    "# Plot the percentage change in life expectancy over time\n",
    "plt.figure(figsize=(10, 6))\n",
    "sns.lineplot(data=data, x='year', y='life_expectancy_pct_change', hue='continent', marker='o')\n",
    "plt.title(\"Percentage Change in Life Expectancy Over Time by Continent\")\n",
    "plt.xlabel(\"Year\")\n",
    "plt.ylabel(\"Percentage Change in Life Expectancy\")\n",
    "plt.grid(True)\n",
    "plt.show()\n"
   ]
  }
 ],
 "metadata": {
  "kernelspec": {
   "display_name": "Python 3",
   "language": "python",
   "name": "python3"
  },
  "language_info": {
   "codemirror_mode": {
    "name": "ipython",
    "version": 3
   },
   "file_extension": ".py",
   "mimetype": "text/x-python",
   "name": "python",
   "nbconvert_exporter": "python",
   "pygments_lexer": "ipython3",
   "version": "3.12.5"
  }
 },
 "nbformat": 4,
 "nbformat_minor": 2
}
